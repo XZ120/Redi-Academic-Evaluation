{
 "cells": [
  {
   "cell_type": "code",
   "execution_count": 1,
   "metadata": {},
   "outputs": [],
   "source": [
    "%matplotlib inline\n",
    "import matplotlib.pyplot as plt\n",
    "import seaborn as sns\n",
    "import pandas as pd\n",
    "import numpy as np"
   ]
  },
  {
   "cell_type": "code",
   "execution_count": 2,
   "metadata": {},
   "outputs": [
    {
     "data": {
      "text/html": [
       "<div>\n",
       "<style scoped>\n",
       "    .dataframe tbody tr th:only-of-type {\n",
       "        vertical-align: middle;\n",
       "    }\n",
       "\n",
       "    .dataframe tbody tr th {\n",
       "        vertical-align: top;\n",
       "    }\n",
       "\n",
       "    .dataframe thead th {\n",
       "        text-align: right;\n",
       "    }\n",
       "</style>\n",
       "<table border=\"1\" class=\"dataframe\">\n",
       "  <thead>\n",
       "    <tr style=\"text-align: right;\">\n",
       "      <th></th>\n",
       "      <th>subject</th>\n",
       "      <th>term</th>\n",
       "      <th>midtest</th>\n",
       "      <th>finaltest</th>\n",
       "      <th>other</th>\n",
       "      <th>weight_test</th>\n",
       "      <th>kredit</th>\n",
       "      <th>score</th>\n",
       "      <th>type</th>\n",
       "    </tr>\n",
       "  </thead>\n",
       "  <tbody>\n",
       "    <tr>\n",
       "      <th>0</th>\n",
       "      <td>ekbang</td>\n",
       "      <td>3</td>\n",
       "      <td>51.0</td>\n",
       "      <td>60.0</td>\n",
       "      <td>80.000000</td>\n",
       "      <td>0.7</td>\n",
       "      <td>3</td>\n",
       "      <td>62.85</td>\n",
       "      <td>campur</td>\n",
       "    </tr>\n",
       "    <tr>\n",
       "      <th>1</th>\n",
       "      <td>ekmis</td>\n",
       "      <td>5</td>\n",
       "      <td>88.0</td>\n",
       "      <td>87.5</td>\n",
       "      <td>87.500000</td>\n",
       "      <td>0.6</td>\n",
       "      <td>3</td>\n",
       "      <td>87.65</td>\n",
       "      <td>campur</td>\n",
       "    </tr>\n",
       "    <tr>\n",
       "      <th>2</th>\n",
       "      <td>AKP</td>\n",
       "      <td>6</td>\n",
       "      <td>57.0</td>\n",
       "      <td>86.0</td>\n",
       "      <td>87.000000</td>\n",
       "      <td>0.7</td>\n",
       "      <td>3</td>\n",
       "      <td>76.15</td>\n",
       "      <td>campur</td>\n",
       "    </tr>\n",
       "    <tr>\n",
       "      <th>3</th>\n",
       "      <td>epi</td>\n",
       "      <td>6</td>\n",
       "      <td>81.0</td>\n",
       "      <td>95.0</td>\n",
       "      <td>88.333333</td>\n",
       "      <td>0.7</td>\n",
       "      <td>3</td>\n",
       "      <td>88.10</td>\n",
       "      <td>campur</td>\n",
       "    </tr>\n",
       "    <tr>\n",
       "      <th>4</th>\n",
       "      <td>itb</td>\n",
       "      <td>6</td>\n",
       "      <td>82.0</td>\n",
       "      <td>92.0</td>\n",
       "      <td>80.666667</td>\n",
       "      <td>0.7</td>\n",
       "      <td>2</td>\n",
       "      <td>85.10</td>\n",
       "      <td>campur</td>\n",
       "    </tr>\n",
       "  </tbody>\n",
       "</table>\n",
       "</div>"
      ],
      "text/plain": [
       "  subject  term  midtest  finaltest      other  weight_test  kredit  score  \\\n",
       "0  ekbang     3     51.0       60.0  80.000000          0.7       3  62.85   \n",
       "1   ekmis     5     88.0       87.5  87.500000          0.6       3  87.65   \n",
       "2     AKP     6     57.0       86.0  87.000000          0.7       3  76.15   \n",
       "3     epi     6     81.0       95.0  88.333333          0.7       3  88.10   \n",
       "4     itb     6     82.0       92.0  80.666667          0.7       2  85.10   \n",
       "\n",
       "     type  \n",
       "0  campur  \n",
       "1  campur  \n",
       "2  campur  \n",
       "3  campur  \n",
       "4  campur  "
      ]
     },
     "execution_count": 2,
     "metadata": {},
     "output_type": "execute_result"
    }
   ],
   "source": [
    "index = pd.read_excel(\"grade.xlsx\")\n",
    "index.head()"
   ]
  },
  {
   "cell_type": "code",
   "execution_count": 3,
   "metadata": {},
   "outputs": [
    {
     "name": "stdout",
     "output_type": "stream",
     "text": [
      "<class 'pandas.core.frame.DataFrame'>\n",
      "RangeIndex: 41 entries, 0 to 40\n",
      "Data columns (total 9 columns):\n",
      "subject        41 non-null object\n",
      "term           41 non-null int64\n",
      "midtest        41 non-null float64\n",
      "finaltest      41 non-null float64\n",
      "other          40 non-null float64\n",
      "weight_test    41 non-null float64\n",
      "kredit         41 non-null int64\n",
      "score          41 non-null float64\n",
      "type           41 non-null object\n",
      "dtypes: float64(5), int64(2), object(2)\n",
      "memory usage: 3.0+ KB\n"
     ]
    }
   ],
   "source": [
    "index.info()"
   ]
  },
  {
   "cell_type": "code",
   "execution_count": 4,
   "metadata": {
    "scrolled": true
   },
   "outputs": [
    {
     "name": "stderr",
     "output_type": "stream",
     "text": [
      "C:\\Users\\LENOVO\\Anaconda3\\lib\\site-packages\\ipykernel_launcher.py:1: UserWarning: Pandas doesn't allow columns to be created via a new attribute name - see https://pandas.pydata.org/pandas-docs/stable/indexing.html#attribute-access\n",
      "  \"\"\"Entry point for launching an IPython kernel.\n"
     ]
    }
   ],
   "source": [
    "index.jenis = index[\"type\"].astype(\"category\")"
   ]
  },
  {
   "cell_type": "markdown",
   "metadata": {},
   "source": [
    "**In aggregate, the subject types consist of three types, both midtest and finaltest, both paper writing, or mix (writing in finaltest). So all midtest for tests and mixed type is test**"
   ]
  },
  {
   "cell_type": "markdown",
   "metadata": {},
   "source": [
    "# How Well My Test"
   ]
  },
  {
   "cell_type": "code",
   "execution_count": 5,
   "metadata": {
    "scrolled": true
   },
   "outputs": [
    {
     "data": {
      "text/html": [
       "<div>\n",
       "<style scoped>\n",
       "    .dataframe tbody tr th:only-of-type {\n",
       "        vertical-align: middle;\n",
       "    }\n",
       "\n",
       "    .dataframe tbody tr th {\n",
       "        vertical-align: top;\n",
       "    }\n",
       "\n",
       "    .dataframe thead th {\n",
       "        text-align: right;\n",
       "    }\n",
       "</style>\n",
       "<table border=\"1\" class=\"dataframe\">\n",
       "  <thead>\n",
       "    <tr style=\"text-align: right;\">\n",
       "      <th></th>\n",
       "      <th>term</th>\n",
       "      <th>midtest</th>\n",
       "      <th>finaltest</th>\n",
       "      <th>other</th>\n",
       "      <th>weight_test</th>\n",
       "      <th>kredit</th>\n",
       "      <th>score</th>\n",
       "    </tr>\n",
       "  </thead>\n",
       "  <tbody>\n",
       "    <tr>\n",
       "      <th>count</th>\n",
       "      <td>35.000000</td>\n",
       "      <td>35.0000</td>\n",
       "      <td>35.000000</td>\n",
       "      <td>35.000000</td>\n",
       "      <td>35.000000</td>\n",
       "      <td>35.000000</td>\n",
       "      <td>35.000000</td>\n",
       "    </tr>\n",
       "    <tr>\n",
       "      <th>mean</th>\n",
       "      <td>3.314286</td>\n",
       "      <td>75.0000</td>\n",
       "      <td>76.864286</td>\n",
       "      <td>83.048095</td>\n",
       "      <td>0.672857</td>\n",
       "      <td>2.942857</td>\n",
       "      <td>78.854000</td>\n",
       "    </tr>\n",
       "    <tr>\n",
       "      <th>std</th>\n",
       "      <td>1.693785</td>\n",
       "      <td>13.9595</td>\n",
       "      <td>12.001125</td>\n",
       "      <td>15.610362</td>\n",
       "      <td>0.118410</td>\n",
       "      <td>0.937546</td>\n",
       "      <td>7.695879</td>\n",
       "    </tr>\n",
       "    <tr>\n",
       "      <th>min</th>\n",
       "      <td>1.000000</td>\n",
       "      <td>32.0000</td>\n",
       "      <td>51.250000</td>\n",
       "      <td>0.000000</td>\n",
       "      <td>0.400000</td>\n",
       "      <td>1.000000</td>\n",
       "      <td>60.700000</td>\n",
       "    </tr>\n",
       "    <tr>\n",
       "      <th>25%</th>\n",
       "      <td>2.000000</td>\n",
       "      <td>70.0000</td>\n",
       "      <td>67.000000</td>\n",
       "      <td>80.708333</td>\n",
       "      <td>0.600000</td>\n",
       "      <td>3.000000</td>\n",
       "      <td>75.525000</td>\n",
       "    </tr>\n",
       "    <tr>\n",
       "      <th>50%</th>\n",
       "      <td>3.000000</td>\n",
       "      <td>78.0000</td>\n",
       "      <td>78.000000</td>\n",
       "      <td>83.750000</td>\n",
       "      <td>0.700000</td>\n",
       "      <td>3.000000</td>\n",
       "      <td>80.160000</td>\n",
       "    </tr>\n",
       "    <tr>\n",
       "      <th>75%</th>\n",
       "      <td>5.000000</td>\n",
       "      <td>85.5000</td>\n",
       "      <td>84.500000</td>\n",
       "      <td>89.166667</td>\n",
       "      <td>0.700000</td>\n",
       "      <td>3.000000</td>\n",
       "      <td>85.000000</td>\n",
       "    </tr>\n",
       "    <tr>\n",
       "      <th>max</th>\n",
       "      <td>6.000000</td>\n",
       "      <td>93.0000</td>\n",
       "      <td>100.000000</td>\n",
       "      <td>100.000000</td>\n",
       "      <td>1.000000</td>\n",
       "      <td>6.000000</td>\n",
       "      <td>88.800000</td>\n",
       "    </tr>\n",
       "  </tbody>\n",
       "</table>\n",
       "</div>"
      ],
      "text/plain": [
       "            term  midtest   finaltest       other  weight_test     kredit  \\\n",
       "count  35.000000  35.0000   35.000000   35.000000    35.000000  35.000000   \n",
       "mean    3.314286  75.0000   76.864286   83.048095     0.672857   2.942857   \n",
       "std     1.693785  13.9595   12.001125   15.610362     0.118410   0.937546   \n",
       "min     1.000000  32.0000   51.250000    0.000000     0.400000   1.000000   \n",
       "25%     2.000000  70.0000   67.000000   80.708333     0.600000   3.000000   \n",
       "50%     3.000000  78.0000   78.000000   83.750000     0.700000   3.000000   \n",
       "75%     5.000000  85.5000   84.500000   89.166667     0.700000   3.000000   \n",
       "max     6.000000  93.0000  100.000000  100.000000     1.000000   6.000000   \n",
       "\n",
       "           score  \n",
       "count  35.000000  \n",
       "mean   78.854000  \n",
       "std     7.695879  \n",
       "min    60.700000  \n",
       "25%    75.525000  \n",
       "50%    80.160000  \n",
       "75%    85.000000  \n",
       "max    88.800000  "
      ]
     },
     "execution_count": 5,
     "metadata": {},
     "output_type": "execute_result"
    }
   ],
   "source": [
    "ujian = pd.DataFrame(index[index[\"type\"]!= \"esai\"])\n",
    "campur = pd.DataFrame(ujian[ujian[\"type\"]!= \"campur\"])\n",
    "ujian.describe()"
   ]
  },
  {
   "cell_type": "code",
   "execution_count": 6,
   "metadata": {},
   "outputs": [
    {
     "data": {
      "text/plain": [
       "[<matplotlib.lines.Line2D at 0x289bf7faf60>]"
      ]
     },
     "execution_count": 6,
     "metadata": {},
     "output_type": "execute_result"
    },
    {
     "data": {
      "image/png": "[encoded data removed]",
      "text/plain": [
       "<Figure size 432x288 with 1 Axes>"
      ]
     },
     "metadata": {},
     "output_type": "display_data"
    }
   ],
   "source": [
    "sns.distplot(ujian.midtest, norm_hist=True, hist=False)\n",
    "plt.plot([ujian.midtest.mean(), ujian.midtest.mean()], [0,.035], color=\"b\")\n",
    "sns.distplot(campur.finaltest, norm_hist=True, color=\"red\", hist=False)\n",
    "plt.plot([campur.finaltest.mean(), campur.finaltest.mean()], [0,.035], color=\"black\")"
   ]
  },
  {
   "cell_type": "code",
   "execution_count": 7,
   "metadata": {
    "scrolled": true
   },
   "outputs": [
    {
     "data": {
      "image/png": "[encoded data removed]",
      "text/plain": [
       "<Figure size 432x288 with 2 Axes>"
      ]
     },
     "metadata": {},
     "output_type": "display_data"
    }
   ],
   "source": [
    "plt.subplot(2,1,1)\n",
    "sns.boxplot(campur.finaltest)\n",
    "plt.xlim(30,100)\n",
    "plt.subplot(2,1,2)\n",
    "sns.boxplot(ujian.midtest)\n",
    "plt.xlim(30,100)\n",
    "plt.show()"
   ]
  },
  {
   "cell_type": "code",
   "execution_count": 8,
   "metadata": {},
   "outputs": [
    {
     "data": {
      "text/plain": [
       "count     65.000000\n",
       "mean      75.303846\n",
       "std       12.776206\n",
       "min       32.000000\n",
       "25%       67.000000\n",
       "50%       78.000000\n",
       "75%       83.000000\n",
       "max      100.000000\n",
       "dtype: float64"
      ]
     },
     "execution_count": 8,
     "metadata": {},
     "output_type": "execute_result"
    }
   ],
   "source": [
    "uji = pd.concat([campur.finaltest, ujian.midtest], axis=0)\n",
    "uji = uji.dropna()\n",
    "uji.describe()"
   ]
  },
  {
   "cell_type": "markdown",
   "metadata": {},
   "source": [
    "# My Essay Score"
   ]
  },
  {
   "cell_type": "code",
   "execution_count": 9,
   "metadata": {},
   "outputs": [
    {
     "name": "stdout",
     "output_type": "stream",
     "text": [
      "<class 'pandas.core.frame.DataFrame'>\n",
      "Int64Index: 11 entries, 0 to 10\n",
      "Data columns (total 9 columns):\n",
      "subject        11 non-null object\n",
      "term           11 non-null int64\n",
      "midtest        11 non-null float64\n",
      "finaltest      11 non-null float64\n",
      "other          10 non-null float64\n",
      "weight_test    11 non-null float64\n",
      "kredit         11 non-null int64\n",
      "score          11 non-null float64\n",
      "type           11 non-null object\n",
      "dtypes: float64(5), int64(2), object(2)\n",
      "memory usage: 880.0+ bytes\n"
     ]
    }
   ],
   "source": [
    "tulisan = pd.DataFrame(index[index[\"type\"]!= \"ujian\"])\n",
    "tulisan.info()                             "
   ]
  },
  {
   "cell_type": "code",
   "execution_count": 10,
   "metadata": {},
   "outputs": [
    {
     "data": {
      "text/plain": [
       "count    16.000000\n",
       "mean     79.510625\n",
       "std      13.308286\n",
       "min      51.000000\n",
       "25%      73.127500\n",
       "50%      84.750000\n",
       "75%      88.250000\n",
       "max      95.000000\n",
       "dtype: float64"
      ]
     },
     "execution_count": 10,
     "metadata": {},
     "output_type": "execute_result"
    }
   ],
   "source": [
    "uas = tulisan[\"finaltest\"].where(tulisan[\"type\"]==\"campur\")\n",
    "uts = tulisan[\"midtest\"]\n",
    "hj = pd.concat([uas, uts], axis=0)\n",
    "hj = hj.dropna()\n",
    "hj.describe()"
   ]
  },
  {
   "cell_type": "code",
   "execution_count": 11,
   "metadata": {},
   "outputs": [
    {
     "data": {
      "text/plain": [
       "<matplotlib.axes._subplots.AxesSubplot at 0x289c0bca2e8>"
      ]
     },
     "execution_count": 11,
     "metadata": {},
     "output_type": "execute_result"
    },
    {
     "data": {
      "image/png": "[encoded data removed]",
      "text/plain": [
       "<Figure size 936x288 with 2 Axes>"
      ]
     },
     "metadata": {},
     "output_type": "display_data"
    }
   ],
   "source": [
    "plt.figure(figsize=(13, 4))\n",
    "plt.subplot(1,2,1)\n",
    "sns.distplot(hj, hist=False)\n",
    "plt.plot([hj.mean(), hj.mean()], [0,.035], color=\"b\")\n",
    "plt.subplot(1,2,2)\n",
    "sns.boxplot(hj)"
   ]
  },
  {
   "cell_type": "markdown",
   "metadata": {},
   "source": [
    "# Compare"
   ]
  },
  {
   "cell_type": "code",
   "execution_count": 12,
   "metadata": {},
   "outputs": [
    {
     "data": {
      "text/plain": [
       "<matplotlib.axes._subplots.AxesSubplot at 0x289c0c8df28>"
      ]
     },
     "execution_count": 12,
     "metadata": {},
     "output_type": "execute_result"
    },
    {
     "data": {
      "image/png": "[encoded data removed]",
      "text/plain": [
       "<Figure size 1152x288 with 3 Axes>"
      ]
     },
     "metadata": {},
     "output_type": "display_data"
    }
   ],
   "source": [
    "plt.figure(figsize=(16, 4))\n",
    "plt.subplot(1,3,1)\n",
    "sns.distplot(hj, hist=False)\n",
    "plt.plot([hj.mean(), hj.mean()], [0,.035], color=\"b\")\n",
    "sns.distplot(uji, hist=False)\n",
    "plt.plot([uji.mean(), uji.mean()], [0,.035])\n",
    "plt.subplot(1,3,2)\n",
    "sns.boxplot(hj, orient=\"v\")\n",
    "plt.subplot(1,3,3)\n",
    "sns.boxplot(uji, orient=\"v\", color=\"red\")"
   ]
  },
  {
   "cell_type": "code",
   "execution_count": 13,
   "metadata": {},
   "outputs": [
    {
     "name": "stderr",
     "output_type": "stream",
     "text": [
      "C:\\Users\\LENOVO\\Anaconda3\\lib\\site-packages\\statsmodels\\nonparametric\\kde.py:448: RuntimeWarning: invalid value encountered in greater\n",
      "  X = X[np.logical_and(X > clip[0], X < clip[1])] # won't work for two columns.\n",
      "C:\\Users\\LENOVO\\Anaconda3\\lib\\site-packages\\statsmodels\\nonparametric\\kde.py:448: RuntimeWarning: invalid value encountered in less\n",
      "  X = X[np.logical_and(X > clip[0], X < clip[1])] # won't work for two columns.\n"
     ]
    },
    {
     "data": {
      "text/plain": [
       "(0, 0.06825)"
      ]
     },
     "execution_count": 13,
     "metadata": {},
     "output_type": "execute_result"
    },
    {
     "data": {
      "image/png": "[encoded data removed]",
      "text/plain": [
       "<Figure size 432x288 with 1 Axes>"
      ]
     },
     "metadata": {},
     "output_type": "display_data"
    }
   ],
   "source": [
    "# Other Score like Homework, Short Essay, Weekly Taks, Presentation, Presency, etc\n",
    "sns.distplot(index.other, hist=False)\n",
    "plt.plot([index.other.median(),index.other.median()], [0,.065])\n",
    "plt.xlim(70, 100)\n",
    "plt.ylim(0)"
   ]
  },
  {
   "cell_type": "code",
   "execution_count": 14,
   "metadata": {},
   "outputs": [
    {
     "name": "stdout",
     "output_type": "stream",
     "text": [
      "Average Other Weight in Final Score, Exclude Midtest and Finaltest is 0.31951219512195134\n"
     ]
    }
   ],
   "source": [
    "index[\"other_we\"] = 1 - index[\"weight_test\"]\n",
    "print (\"Average Other Weight in Final Score, Exclude Midtest and Finaltest is \" + str(index.other_we.mean()))"
   ]
  },
  {
   "cell_type": "code",
   "execution_count": null,
   "metadata": {},
   "outputs": [],
   "source": []
  }
 ],
 "metadata": {
  "kernelspec": {
   "display_name": "Python 3",
   "language": "python",
   "name": "python3"
  },
  "language_info": {
   "codemirror_mode": {
    "name": "ipython",
    "version": 3
   },
   "file_extension": ".py",
   "mimetype": "text/x-python",
   "name": "python",
   "nbconvert_exporter": "python",
   "pygments_lexer": "ipython3",
   "version": "3.6.5"
  }
 },
 "nbformat": 4,
 "nbformat_minor": 2
}
